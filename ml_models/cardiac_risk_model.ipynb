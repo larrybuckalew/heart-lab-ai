{
  "cells": [
    {
      "cell_type": "markdown",
      "metadata": {},
      "source": ["# Cardiac Risk Prediction Model"]
    },
    {
      "cell_type": "code",
      "execution_count": null,
      "metadata": {},
      "outputs": [],
      "source": [
        "import pandas as pd",
        "import numpy as np",
        "from sklearn.model_selection import train_test_split",
        "from sklearn.preprocessing import StandardScaler",
        "from sklearn.ensemble import RandomForestClassifier",
        "from sklearn.metrics import classification_report"
      ]
    },
    {
      "cell_type": "code",
      "execution_count": null,
      "metadata": {},
      "source": [
        "# Generate synthetic cardiac risk dataset",
        "np.random.seed(42)",
        "n_samples = 1000",
        "data = pd.DataFrame({",
        "    'age': np.random.normal(50, 15, n_samples),",
        "    'systolic_bp': np.random.normal(130, 20, n_samples),",
        "    'diastolic_bp': np.random.normal(80, 10, n_samples),",
        "    'cholesterol': np.random.normal(200, 40, n_samples),",
        "    'glucose': np.random.normal(100, 25, n_samples),",
        "    'smoking': np.random.choice([0, 1], n_samples, p=[0.7, 0.3]),",
        "    'diabetes': np.random.choice([0, 1], n_samples, p=[0.9, 0.1]),",
        "    'family_history': np.random.choice([0, 1], n_samples, p=[0.8, 0.2])",
        "})",
        "# Generate risk labels based on complex rules",
        "def calculate_risk(row):",
        "    risk_score = (",
        "        (row['age'] > 55) * 2 +",
        "        (row['systolic_bp'] > 140) * 2 +",
        "        (row['cholesterol'] > 240) * 2 +",
        "        (row['smoking'] == 1) * 2 +",
        "        (row['diabetes'] == 1) * 3 +",
        "        (row['family_history'] == 1) * 2",
        "    )",
        "    return 'high' if risk_score >= 5 else 'medium' if risk_score >= 3 else 'low'",
        "data['risk_category'] = data.apply(calculate_risk, axis=1)"
      ]
    },
    {
      "cell_type": "code",
      "execution_count": null,
      "metadata": {},
      "source": [
        "# Prepare data for machine learning",
        "X = data.drop('risk_category', axis=1)",
        "y = data['risk_category']",
        "X_train, X_test, y_train, y_test = train_test_split(X, y, test_size=0.2)"
      ]
    },
    {
      "cell_type": "code",
      "execution_count": null,
      "metadata": {},
      "source": [
        "# Train Random Forest Classifier",
        "scaler = StandardScaler()",
        "X_train_scaled = scaler.fit_transform(X_train)",
        "X_test_scaled = scaler.transform(X_test)",
        "rf_classifier = RandomForestClassifier(n_estimators=100)",
        "rf_classifier.fit(X_train_scaled, y_train)"
      ]
    },
    {
      "cell_type": "code",
      "execution_count": null,
      "metadata": {},
      "source": [
        "# Evaluate the model",
        "y_pred = rf_classifier.predict(X_test_scaled)",
        "print(classification_report(y_test, y_pred))"
      ]
    }
  ]
}